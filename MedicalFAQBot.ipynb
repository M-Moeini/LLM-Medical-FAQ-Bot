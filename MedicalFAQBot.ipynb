{
 "cells": [
  {
   "cell_type": "code",
   "execution_count": 12,
   "metadata": {},
   "outputs": [],
   "source": [
    "from fastapi import FastAPI\n",
    "import openai\n",
    "import os\n",
    "file_path = '/home/mahdi146/projects/def-b09sdp/mahdi146/api-key/key2.text'\n",
    "with open(file_path, 'r') as file:\n",
    "    api_key = file.read().strip()  \n",
    "\n",
    "app = FastAPI()\n",
    "openai.api_key = api_key\n",
    "\n",
    "@app.get(\"/\")\n",
    "def read_root():\n",
    "    return {\"message\": \"Medical Bot is running\"}\n",
    "\n",
    "@app.post(\"/ask\")\n",
    "async def ask_openai(question: str):\n",
    "    try:\n",
    "        # Call the OpenAI API to generate a response\n",
    "        response = openai.Completion.create(\n",
    "            engine=\"text-davinci-003\",\n",
    "            prompt=question,\n",
    "            max_tokens=150\n",
    "        )\n",
    "        return {\"answer\": response.choices[0].text.strip()}\n",
    "    except Exception as e:\n",
    "        return {\"error\": str(e)}"
   ]
  }
 ],
 "metadata": {
  "kernelspec": {
   "display_name": "jupyter1",
   "language": "python",
   "name": "python3"
  },
  "language_info": {
   "codemirror_mode": {
    "name": "ipython",
    "version": 3
   },
   "file_extension": ".py",
   "mimetype": "text/x-python",
   "name": "python",
   "nbconvert_exporter": "python",
   "pygments_lexer": "ipython3",
   "version": "3.11.5"
  }
 },
 "nbformat": 4,
 "nbformat_minor": 2
}
